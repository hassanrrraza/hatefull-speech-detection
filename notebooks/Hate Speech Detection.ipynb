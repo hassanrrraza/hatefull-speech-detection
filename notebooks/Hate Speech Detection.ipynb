{
 "cells": [
  {
   "cell_type": "markdown",
   "id": "efa07fe1",
   "metadata": {},
   "source": [
    "# 1. Dataset Analysis"
   ]
  },
  {
   "cell_type": "code",
   "execution_count": 18,
   "id": "c507a20b",
   "metadata": {},
   "outputs": [],
   "source": [
    "import pandas as pd\n",
    "dataset_path = 'C:/Users/HP/Hate Speech Detection/Project/Dataset.csv'"
   ]
  },
  {
   "cell_type": "code",
   "execution_count": 19,
   "id": "8ef65f7d",
   "metadata": {},
   "outputs": [
    {
     "name": "stdout",
     "output_type": "stream",
     "text": [
      "Dataset loaded successfully!\n"
     ]
    }
   ],
   "source": [
    "# Load the dataset\n",
    "try:\n",
    "    dataset = pd.read_csv(dataset_path, encoding='latin1')\n",
    "    print(\"Dataset loaded successfully!\")\n",
    "except FileNotFoundError:\n",
    "    print(f\"File not found at path: {dataset_path}. Please check the file path.\")"
   ]
  },
  {
   "cell_type": "code",
   "execution_count": 20,
   "id": "c820f963",
   "metadata": {},
   "outputs": [
    {
     "name": "stdout",
     "output_type": "stream",
     "text": [
      "Number of rows: 10208\n",
      "Number of columns: 2\n",
      "\n",
      "First few rows of the dataset:\n",
      "                                               tweet  label\n",
      "0  bhaunk bhaunk ke pagal ho jaata ab tak....@Ali...      0\n",
      "1  shivsaina  nam mulla  saina  rakh  hijra  uddh...      0\n",
      "2  there are some yahodi daboo like imran chore z...      0\n",
      "3  chutiye ye hunduism ni he islam he , isme koi ...      0\n",
      "4  han g rakhail e awal kiya bak rai hai. kisay a...      0\n",
      "\n",
      "Missing values in each column:\n",
      "tweet    0\n",
      "label    0\n",
      "dtype: int64\n",
      "\n",
      "Summary of the 'label' column:\n",
      "label\n",
      "1    5350\n",
      "0    4858\n",
      "Name: count, dtype: int64\n",
      "\n",
      "The dataset contains the required columns: 'tweet' and 'label'.\n"
     ]
    }
   ],
   "source": [
    "# Analyze the dataset\n",
    "if 'dataset' in locals():\n",
    "    # Display the number of rows and columns\n",
    "    rows, cols = dataset.shape\n",
    "    print(f\"Number of rows: {rows}\")\n",
    "    print(f\"Number of columns: {cols}\")\n",
    "\n",
    "    # Display the first few rows\n",
    "    print(\"\\nFirst few rows of the dataset:\")\n",
    "    print(dataset.head())\n",
    "\n",
    "    # Check for missing values\n",
    "    print(\"\\nMissing values in each column:\")\n",
    "    print(dataset.isnull().sum())\n",
    "\n",
    "    # Summary of the 'label' column\n",
    "    if 'label' in dataset.columns:\n",
    "        print(\"\\nSummary of the 'label' column:\")\n",
    "        print(dataset['label'].value_counts())\n",
    "\n",
    "    # Validate that the dataset contains the expected columns\n",
    "    expected_columns = {'tweet', 'label'}\n",
    "    if set(dataset.columns) >= expected_columns:\n",
    "        print(\"\\nThe dataset contains the required columns: 'tweet' and 'label'.\")\n",
    "    else:\n",
    "        print(\"\\nThe dataset is missing required columns. Please check the file.\")"
   ]
  },
  {
   "cell_type": "markdown",
   "id": "8cfe65da",
   "metadata": {},
   "source": [
    "# 2. Preprocessing"
   ]
  },
  {
   "cell_type": "code",
   "execution_count": 2,
   "id": "05957dd1",
   "metadata": {},
   "outputs": [
    {
     "name": "stdout",
     "output_type": "stream",
     "text": [
      "Requirement already satisfied: scikit-learn==1.6.0 in c:\\users\\hp\\anaconda3\\lib\\site-packages (1.6.0)\n",
      "Requirement already satisfied: numpy>=1.19.5 in c:\\users\\hp\\anaconda3\\lib\\site-packages (from scikit-learn==1.6.0) (1.24.3)\n",
      "Requirement already satisfied: scipy>=1.6.0 in c:\\users\\hp\\anaconda3\\lib\\site-packages (from scikit-learn==1.6.0) (1.11.1)\n",
      "Requirement already satisfied: joblib>=1.2.0 in c:\\users\\hp\\anaconda3\\lib\\site-packages (from scikit-learn==1.6.0) (1.2.0)\n",
      "Requirement already satisfied: threadpoolctl>=3.1.0 in c:\\users\\hp\\anaconda3\\lib\\site-packages (from scikit-learn==1.6.0) (3.5.0)\n"
     ]
    },
    {
     "name": "stderr",
     "output_type": "stream",
     "text": [
      "\n",
      "[notice] A new release of pip is available: 24.1.2 -> 24.3.1\n",
      "[notice] To update, run: python.exe -m pip install --upgrade pip\n"
     ]
    }
   ],
   "source": [
    "#Importing necessary libraries\n",
    "\n",
    "import pandas as pd\n",
    "import re\n",
    "import nltk\n",
    "from nltk.corpus import stopwords\n",
    "from nltk.tokenize import word_tokenize\n",
    "import sklearn\n",
    "!pip install scikit-learn==1.6.0"
   ]
  },
  {
   "cell_type": "code",
   "execution_count": 3,
   "id": "433de023",
   "metadata": {},
   "outputs": [
    {
     "name": "stdout",
     "output_type": "stream",
     "text": [
      "nltk version: 3.8.1\n",
      "scikit-learn version 1.6.0\n"
     ]
    }
   ],
   "source": [
    "print(\"nltk version:\", nltk.__version__)\n",
    "print(\"scikit-learn version\", sklearn.__version__)"
   ]
  },
  {
   "cell_type": "code",
   "execution_count": 4,
   "id": "c26cb183",
   "metadata": {},
   "outputs": [
    {
     "data": {
      "text/html": [
       "<div>\n",
       "<style scoped>\n",
       "    .dataframe tbody tr th:only-of-type {\n",
       "        vertical-align: middle;\n",
       "    }\n",
       "\n",
       "    .dataframe tbody tr th {\n",
       "        vertical-align: top;\n",
       "    }\n",
       "\n",
       "    .dataframe thead th {\n",
       "        text-align: right;\n",
       "    }\n",
       "</style>\n",
       "<table border=\"1\" class=\"dataframe\">\n",
       "  <thead>\n",
       "    <tr style=\"text-align: right;\">\n",
       "      <th></th>\n",
       "      <th>tweet</th>\n",
       "      <th>label</th>\n",
       "    </tr>\n",
       "  </thead>\n",
       "  <tbody>\n",
       "    <tr>\n",
       "      <th>0</th>\n",
       "      <td>bhaunk bhaunk ke pagal ho jaata ab tak....@Ali...</td>\n",
       "      <td>0</td>\n",
       "    </tr>\n",
       "    <tr>\n",
       "      <th>1</th>\n",
       "      <td>shivsaina  nam mulla  saina  rakh  hijra  uddh...</td>\n",
       "      <td>0</td>\n",
       "    </tr>\n",
       "    <tr>\n",
       "      <th>2</th>\n",
       "      <td>there are some yahodi daboo like imran chore z...</td>\n",
       "      <td>0</td>\n",
       "    </tr>\n",
       "    <tr>\n",
       "      <th>3</th>\n",
       "      <td>chutiye ye hunduism ni he islam he , isme koi ...</td>\n",
       "      <td>0</td>\n",
       "    </tr>\n",
       "    <tr>\n",
       "      <th>4</th>\n",
       "      <td>han g rakhail e awal kiya bak rai hai. kisay a...</td>\n",
       "      <td>0</td>\n",
       "    </tr>\n",
       "  </tbody>\n",
       "</table>\n",
       "</div>"
      ],
      "text/plain": [
       "                                               tweet  label\n",
       "0  bhaunk bhaunk ke pagal ho jaata ab tak....@Ali...      0\n",
       "1  shivsaina  nam mulla  saina  rakh  hijra  uddh...      0\n",
       "2  there are some yahodi daboo like imran chore z...      0\n",
       "3  chutiye ye hunduism ni he islam he , isme koi ...      0\n",
       "4  han g rakhail e awal kiya bak rai hai. kisay a...      0"
      ]
     },
     "execution_count": 4,
     "metadata": {},
     "output_type": "execute_result"
    }
   ],
   "source": [
    "#Loading the dataset\n",
    "file_path = \"C:/Users/HP/Hate Speech Detection/Project/Dataset.csv\"\n",
    "dataset = pd.read_csv(file_path, encoding='latin1')\n",
    "\n",
    "# Display the first few rows\n",
    "dataset.head()\n"
   ]
  },
  {
   "cell_type": "code",
   "execution_count": 5,
   "id": "5210db88",
   "metadata": {},
   "outputs": [
    {
     "name": "stdout",
     "output_type": "stream",
     "text": [
      "Number of rows: 10208\n",
      "Number of columns: 2\n",
      "\n",
      "Label counts:\n",
      "Label 0 (Hateful Tweets): 4858\n",
      "Label 1 (Normal Tweets): 5350\n"
     ]
    }
   ],
   "source": [
    "# Display dataset summary: rows, columns, and label counts\n",
    "print(f\"Number of rows: {dataset.shape[0]}\")\n",
    "print(f\"Number of columns: {dataset.shape[1]}\")\n",
    "\n",
    "# Count the occurrences of each label\n",
    "label_counts = dataset['label'].value_counts()\n",
    "print(\"\\nLabel counts:\")\n",
    "print(f\"Label 0 (Hateful Tweets): {label_counts.get(0, 0)}\")\n",
    "print(f\"Label 1 (Normal Tweets): {label_counts.get(1, 0)}\")"
   ]
  },
  {
   "cell_type": "code",
   "execution_count": 6,
   "id": "d766a419",
   "metadata": {},
   "outputs": [
    {
     "data": {
      "image/png": "[encoded data removed]",
      "text/plain": [
       "<Figure size 600x600 with 1 Axes>"
      ]
     },
     "metadata": {},
     "output_type": "display_data"
    }
   ],
   "source": [
    "import matplotlib.pyplot as plt\n",
    "\n",
    "# Pie chart for the distribution of classes\n",
    "plt.figure(figsize=(6, 6))\n",
    "label_counts = [4858, 5350]  # Counts for Hateful and Normal tweets\n",
    "plt.pie(label_counts, labels=['Label 0 (Hateful Tweets)', 'Label 1 (Normal Tweets)'], autopct='%1.1f%%', startangle=90, colors=['blue', 'green'], textprops={'color': 'white'})\n",
    "\n",
    "# Add legend with color labels\n",
    "plt.legend(['Label 0 (Hateful Tweets)', 'Label 1 (Normal Tweets)'], loc='upper left', fontsize=12)\n",
    "\n",
    "plt.title('Distribution of Hateful and Normal Tweets', fontsize=14)\n",
    "plt.axis('equal')  # Equal aspect ratio ensures that pie is drawn as a circle.\n",
    "plt.show()\n"
   ]
  },
  {
   "cell_type": "code",
   "execution_count": 7,
   "id": "1ee008e8",
   "metadata": {},
   "outputs": [],
   "source": [
    "#Defining functions for preprocessing\n",
    "\n",
    "# Function to remove special characters, mentions, and URLs\n",
    "def remove_special_characters(text):\n",
    "    text = re.sub(r'@\\w+', '', text)  # Remove mentions\n",
    "    text = re.sub(r'http\\S+|www\\S+', '', text)  # Remove URLs\n",
    "    text = re.sub(r'[^a-zA-Z0-9\\s]', '', text)  # Remove non-alphanumeric characters\n",
    "    return text\n",
    "\n",
    "# Function to normalize text (lowercase)\n",
    "def normalize_text(text):\n",
    "    return text.lower()\n",
    "\n",
    "# Function to remove stop words\n",
    "def remove_stop_words(text):\n",
    "    stop_words = set(stopwords.words('english'))  # Can be expanded for Roman Urdu stopwords\n",
    "    words = word_tokenize(text)\n",
    "    filtered_text = ' '.join([word for word in words if word not in stop_words])\n",
    "    return filtered_text\n",
    "\n",
    "# Function to tokenize text\n",
    "def tokenize_text(text):\n",
    "    return word_tokenize(text)\n"
   ]
  },
  {
   "cell_type": "code",
   "execution_count": 8,
   "id": "fabfe770",
   "metadata": {},
   "outputs": [
    {
     "data": {
      "text/html": [
       "<div>\n",
       "<style scoped>\n",
       "    .dataframe tbody tr th:only-of-type {\n",
       "        vertical-align: middle;\n",
       "    }\n",
       "\n",
       "    .dataframe tbody tr th {\n",
       "        vertical-align: top;\n",
       "    }\n",
       "\n",
       "    .dataframe thead th {\n",
       "        text-align: right;\n",
       "    }\n",
       "</style>\n",
       "<table border=\"1\" class=\"dataframe\">\n",
       "  <thead>\n",
       "    <tr style=\"text-align: right;\">\n",
       "      <th></th>\n",
       "      <th>tweet</th>\n",
       "      <th>label</th>\n",
       "      <th>preprocessed_tweet</th>\n",
       "      <th>tokens</th>\n",
       "    </tr>\n",
       "  </thead>\n",
       "  <tbody>\n",
       "    <tr>\n",
       "      <th>0</th>\n",
       "      <td>bhaunk bhaunk ke pagal ho jaata ab tak....@Ali...</td>\n",
       "      <td>0</td>\n",
       "      <td>bhaunk bhaunk ke pagal ho jaata ab tak</td>\n",
       "      <td>[bhaunk, bhaunk, ke, pagal, ho, jaata, ab, tak]</td>\n",
       "    </tr>\n",
       "    <tr>\n",
       "      <th>1</th>\n",
       "      <td>shivsaina  nam mulla  saina  rakh  hijra  uddh...</td>\n",
       "      <td>0</td>\n",
       "      <td>shivsaina nam mulla saina rakh hijra uddhav th...</td>\n",
       "      <td>[shivsaina, nam, mulla, saina, rakh, hijra, ud...</td>\n",
       "    </tr>\n",
       "    <tr>\n",
       "      <th>2</th>\n",
       "      <td>there are some yahodi daboo like imran chore z...</td>\n",
       "      <td>0</td>\n",
       "      <td>yahodi daboo like imran chore zakat khore</td>\n",
       "      <td>[yahodi, daboo, like, imran, chore, zakat, khore]</td>\n",
       "    </tr>\n",
       "    <tr>\n",
       "      <th>3</th>\n",
       "      <td>chutiye ye hunduism ni he islam he , isme koi ...</td>\n",
       "      <td>0</td>\n",
       "      <td>chutiye ye hunduism ni islam isme koi kisi mus...</td>\n",
       "      <td>[chutiye, ye, hunduism, ni, islam, isme, koi, ...</td>\n",
       "    </tr>\n",
       "    <tr>\n",
       "      <th>4</th>\n",
       "      <td>han g rakhail e awal kiya bak rai hai. kisay a...</td>\n",
       "      <td>0</td>\n",
       "      <td>han g rakhail e awal kiya bak rai hai kisay ah...</td>\n",
       "      <td>[han, g, rakhail, e, awal, kiya, bak, rai, hai...</td>\n",
       "    </tr>\n",
       "  </tbody>\n",
       "</table>\n",
       "</div>"
      ],
      "text/plain": [
       "                                               tweet  label  \\\n",
       "0  bhaunk bhaunk ke pagal ho jaata ab tak....@Ali...      0   \n",
       "1  shivsaina  nam mulla  saina  rakh  hijra  uddh...      0   \n",
       "2  there are some yahodi daboo like imran chore z...      0   \n",
       "3  chutiye ye hunduism ni he islam he , isme koi ...      0   \n",
       "4  han g rakhail e awal kiya bak rai hai. kisay a...      0   \n",
       "\n",
       "                                  preprocessed_tweet  \\\n",
       "0             bhaunk bhaunk ke pagal ho jaata ab tak   \n",
       "1  shivsaina nam mulla saina rakh hijra uddhav th...   \n",
       "2          yahodi daboo like imran chore zakat khore   \n",
       "3  chutiye ye hunduism ni islam isme koi kisi mus...   \n",
       "4  han g rakhail e awal kiya bak rai hai kisay ah...   \n",
       "\n",
       "                                              tokens  \n",
       "0    [bhaunk, bhaunk, ke, pagal, ho, jaata, ab, tak]  \n",
       "1  [shivsaina, nam, mulla, saina, rakh, hijra, ud...  \n",
       "2  [yahodi, daboo, like, imran, chore, zakat, khore]  \n",
       "3  [chutiye, ye, hunduism, ni, islam, isme, koi, ...  \n",
       "4  [han, g, rakhail, e, awal, kiya, bak, rai, hai...  "
      ]
     },
     "execution_count": 8,
     "metadata": {},
     "output_type": "execute_result"
    }
   ],
   "source": [
    "#Applying preprocessing to the dataset\n",
    "\n",
    "# Remove special characters, normalize text, and remove stopwords\n",
    "dataset['preprocessed_tweet'] = dataset['tweet'].apply(remove_special_characters)\n",
    "dataset['preprocessed_tweet'] = dataset['preprocessed_tweet'].apply(normalize_text)\n",
    "dataset['preprocessed_tweet'] = dataset['preprocessed_tweet'].apply(remove_stop_words)\n",
    "\n",
    "# Tokenize the preprocessed text\n",
    "dataset['tokens'] = dataset['preprocessed_tweet'].apply(tokenize_text)\n",
    "\n",
    "# Display the updated dataset\n",
    "dataset.head()"
   ]
  },
  {
   "cell_type": "code",
   "execution_count": 9,
   "id": "f5c30795",
   "metadata": {},
   "outputs": [
    {
     "name": "stdout",
     "output_type": "stream",
     "text": [
      "Preprocessed dataset saved to C:\\Users\\HP\\Hate Speech Detection\\Project\\Preprocessed_Dataset.csv\n"
     ]
    }
   ],
   "source": [
    "# Saving the preprocessed dataset\n",
    "preprocessed_file_path = r\"C:\\Users\\HP\\Hate Speech Detection\\Project\\Preprocessed_Dataset.csv\"\n",
    "dataset.to_csv(preprocessed_file_path, index=False)\n",
    "\n",
    "print(f\"Preprocessed dataset saved to {preprocessed_file_path}\")"
   ]
  },
  {
   "cell_type": "markdown",
   "id": "2571b80c",
   "metadata": {},
   "source": [
    "# 3. Machine Learning Model Building"
   ]
  },
  {
   "cell_type": "code",
   "execution_count": 11,
   "id": "2e88d2a0",
   "metadata": {},
   "outputs": [],
   "source": [
    "#Import libraries for machine learning\n",
    "\n",
    "from sklearn.model_selection import train_test_split\n",
    "from sklearn.feature_extraction.text import TfidfVectorizer\n",
    "from sklearn.linear_model import LogisticRegression\n",
    "from sklearn.naive_bayes import MultinomialNB\n",
    "from sklearn.svm import SVC\n",
    "from sklearn.ensemble import RandomForestClassifier\n",
    "from sklearn.metrics import accuracy_score, classification_report"
   ]
  },
  {
   "cell_type": "code",
   "execution_count": 12,
   "id": "7c0bd07a",
   "metadata": {},
   "outputs": [
    {
     "data": {
      "text/html": [
       "<div>\n",
       "<style scoped>\n",
       "    .dataframe tbody tr th:only-of-type {\n",
       "        vertical-align: middle;\n",
       "    }\n",
       "\n",
       "    .dataframe tbody tr th {\n",
       "        vertical-align: top;\n",
       "    }\n",
       "\n",
       "    .dataframe thead th {\n",
       "        text-align: right;\n",
       "    }\n",
       "</style>\n",
       "<table border=\"1\" class=\"dataframe\">\n",
       "  <thead>\n",
       "    <tr style=\"text-align: right;\">\n",
       "      <th></th>\n",
       "      <th>tweet</th>\n",
       "      <th>label</th>\n",
       "      <th>preprocessed_tweet</th>\n",
       "      <th>tokens</th>\n",
       "    </tr>\n",
       "  </thead>\n",
       "  <tbody>\n",
       "    <tr>\n",
       "      <th>0</th>\n",
       "      <td>bhaunk bhaunk ke pagal ho jaata ab tak....@Ali...</td>\n",
       "      <td>0</td>\n",
       "      <td>bhaunk bhaunk ke pagal ho jaata ab tak</td>\n",
       "      <td>['bhaunk', 'bhaunk', 'ke', 'pagal', 'ho', 'jaa...</td>\n",
       "    </tr>\n",
       "    <tr>\n",
       "      <th>1</th>\n",
       "      <td>shivsaina  nam mulla  saina  rakh  hijra  uddh...</td>\n",
       "      <td>0</td>\n",
       "      <td>shivsaina nam mulla saina rakh hijra uddhav th...</td>\n",
       "      <td>['shivsaina', 'nam', 'mulla', 'saina', 'rakh',...</td>\n",
       "    </tr>\n",
       "    <tr>\n",
       "      <th>2</th>\n",
       "      <td>there are some yahodi daboo like imran chore z...</td>\n",
       "      <td>0</td>\n",
       "      <td>yahodi daboo like imran chore zakat khore</td>\n",
       "      <td>['yahodi', 'daboo', 'like', 'imran', 'chore', ...</td>\n",
       "    </tr>\n",
       "    <tr>\n",
       "      <th>3</th>\n",
       "      <td>chutiye ye hunduism ni he islam he , isme koi ...</td>\n",
       "      <td>0</td>\n",
       "      <td>chutiye ye hunduism ni islam isme koi kisi mus...</td>\n",
       "      <td>['chutiye', 'ye', 'hunduism', 'ni', 'islam', '...</td>\n",
       "    </tr>\n",
       "    <tr>\n",
       "      <th>4</th>\n",
       "      <td>han g rakhail e awal kiya bak rai hai. kisay a...</td>\n",
       "      <td>0</td>\n",
       "      <td>han g rakhail e awal kiya bak rai hai kisay ah...</td>\n",
       "      <td>['han', 'g', 'rakhail', 'e', 'awal', 'kiya', '...</td>\n",
       "    </tr>\n",
       "  </tbody>\n",
       "</table>\n",
       "</div>"
      ],
      "text/plain": [
       "                                               tweet  label  \\\n",
       "0  bhaunk bhaunk ke pagal ho jaata ab tak....@Ali...      0   \n",
       "1  shivsaina  nam mulla  saina  rakh  hijra  uddh...      0   \n",
       "2  there are some yahodi daboo like imran chore z...      0   \n",
       "3  chutiye ye hunduism ni he islam he , isme koi ...      0   \n",
       "4  han g rakhail e awal kiya bak rai hai. kisay a...      0   \n",
       "\n",
       "                                  preprocessed_tweet  \\\n",
       "0             bhaunk bhaunk ke pagal ho jaata ab tak   \n",
       "1  shivsaina nam mulla saina rakh hijra uddhav th...   \n",
       "2          yahodi daboo like imran chore zakat khore   \n",
       "3  chutiye ye hunduism ni islam isme koi kisi mus...   \n",
       "4  han g rakhail e awal kiya bak rai hai kisay ah...   \n",
       "\n",
       "                                              tokens  \n",
       "0  ['bhaunk', 'bhaunk', 'ke', 'pagal', 'ho', 'jaa...  \n",
       "1  ['shivsaina', 'nam', 'mulla', 'saina', 'rakh',...  \n",
       "2  ['yahodi', 'daboo', 'like', 'imran', 'chore', ...  \n",
       "3  ['chutiye', 'ye', 'hunduism', 'ni', 'islam', '...  \n",
       "4  ['han', 'g', 'rakhail', 'e', 'awal', 'kiya', '...  "
      ]
     },
     "execution_count": 12,
     "metadata": {},
     "output_type": "execute_result"
    }
   ],
   "source": [
    "#Loading the preprocessed dataset\n",
    "preprocessed_file_path = r\"C:\\Users\\HP\\Hate Speech Detection\\Project\\Preprocessed_Dataset.csv\"\n",
    "data = pd.read_csv(preprocessed_file_path)\n",
    "\n",
    "# Display the first few rows\n",
    "data.head()"
   ]
  },
  {
   "cell_type": "code",
   "execution_count": 13,
   "id": "a870a38e",
   "metadata": {},
   "outputs": [
    {
     "name": "stdout",
     "output_type": "stream",
     "text": [
      "Training set size: (8166, 5000)\n",
      "Test set size: (2042, 5000)\n"
     ]
    }
   ],
   "source": [
    "#Split dataset into features and labels\n",
    "X = data['preprocessed_tweet']  # Features (preprocessed text)\n",
    "y = data['label']               # Labels (0 or 1)\n",
    "\n",
    "# Convert text data to numerical form using TF-IDF\n",
    "vectorizer = TfidfVectorizer(max_features=5000)\n",
    "X_tfidf = vectorizer.fit_transform(X)\n",
    "\n",
    "# Split data into training and testing sets\n",
    "X_train, X_test, y_train, y_test = train_test_split(X_tfidf, y, test_size=0.2, random_state=42)\n",
    "\n",
    "print(f\"Training set size: {X_train.shape}\")\n",
    "print(f\"Test set size: {X_test.shape}\")"
   ]
  },
  {
   "cell_type": "code",
   "execution_count": null,
   "id": "c064a9f8",
   "metadata": {},
   "outputs": [],
   "source": [
    "vectorizer.pkl code"
   ]
  },
  {
   "cell_type": "markdown",
   "id": "fbf7b7f7",
   "metadata": {},
   "source": [
    "## Logistic Regression"
   ]
  },
  {
   "cell_type": "code",
   "execution_count": 14,
   "id": "0a75608b",
   "metadata": {},
   "outputs": [
    {
     "name": "stdout",
     "output_type": "stream",
     "text": [
      "Logistic Regression Accuracy: 88.10%\n",
      "              precision    recall  f1-score   support\n",
      "\n",
      "           0       0.91      0.83      0.87       968\n",
      "           1       0.86      0.93      0.89      1074\n",
      "\n",
      "    accuracy                           0.88      2042\n",
      "   macro avg       0.88      0.88      0.88      2042\n",
      "weighted avg       0.88      0.88      0.88      2042\n",
      "\n"
     ]
    }
   ],
   "source": [
    "# Train and evaluate Logistic Regression\n",
    "logistic_model = LogisticRegression()\n",
    "logistic_model.fit(X_train, y_train)\n",
    "y_pred_logistic = logistic_model.predict(X_test)\n",
    "\n",
    "# Evaluate model\n",
    "accuracy_logistic = accuracy_score(y_test, y_pred_logistic) * 100  # Convert to percentage\n",
    "print(f\"Logistic Regression Accuracy: {accuracy_logistic:.2f}%\")\n",
    "print(classification_report(y_test, y_pred_logistic))"
   ]
  },
  {
   "cell_type": "markdown",
   "id": "895c7a5a",
   "metadata": {},
   "source": [
    "## Naive Bayes (MultinomialNB)"
   ]
  },
  {
   "cell_type": "code",
   "execution_count": 15,
   "id": "d2f523fb",
   "metadata": {},
   "outputs": [
    {
     "name": "stdout",
     "output_type": "stream",
     "text": [
      "Naive Bayes Accuracy: 87.37%\n",
      "              precision    recall  f1-score   support\n",
      "\n",
      "           0       0.89      0.84      0.86       968\n",
      "           1       0.86      0.90      0.88      1074\n",
      "\n",
      "    accuracy                           0.87      2042\n",
      "   macro avg       0.87      0.87      0.87      2042\n",
      "weighted avg       0.87      0.87      0.87      2042\n",
      "\n"
     ]
    }
   ],
   "source": [
    "# Train and evaluate Naive Bayes\n",
    "nb_model = MultinomialNB()\n",
    "nb_model.fit(X_train, y_train)\n",
    "y_pred_nb = nb_model.predict(X_test)\n",
    "\n",
    "# Evaluate model\n",
    "accuracy_nb = accuracy_score(y_test, y_pred_nb) * 100  # Convert to percentage\n",
    "print(f\"Naive Bayes Accuracy: {accuracy_nb:.2f}%\")\n",
    "print(classification_report(y_test, y_pred_nb))"
   ]
  },
  {
   "cell_type": "markdown",
   "id": "f796b3dd",
   "metadata": {},
   "source": [
    "## Support Vector Machines (SVM)"
   ]
  },
  {
   "cell_type": "code",
   "execution_count": 16,
   "id": "72f33005",
   "metadata": {},
   "outputs": [
    {
     "name": "stdout",
     "output_type": "stream",
     "text": [
      "SVM Accuracy: 89.23%\n",
      "              precision    recall  f1-score   support\n",
      "\n",
      "           0       0.91      0.86      0.88       968\n",
      "           1       0.88      0.92      0.90      1074\n",
      "\n",
      "    accuracy                           0.89      2042\n",
      "   macro avg       0.89      0.89      0.89      2042\n",
      "weighted avg       0.89      0.89      0.89      2042\n",
      "\n"
     ]
    }
   ],
   "source": [
    "# Train and evaluate SVM\n",
    "svm_model = SVC(kernel='linear', C=1)\n",
    "svm_model.fit(X_train, y_train)\n",
    "y_pred_svm = svm_model.predict(X_test)\n",
    "\n",
    "# Evaluate model\n",
    "accuracy_svm = accuracy_score(y_test, y_pred_svm) * 100  # Convert to percentage\n",
    "print(f\"SVM Accuracy: {accuracy_svm:.2f}%\")\n",
    "print(classification_report(y_test, y_pred_svm))"
   ]
  },
  {
   "cell_type": "markdown",
   "id": "4c517e7b",
   "metadata": {},
   "source": [
    "## Random Forest"
   ]
  },
  {
   "cell_type": "code",
   "execution_count": 17,
   "id": "cc694679",
   "metadata": {},
   "outputs": [
    {
     "name": "stdout",
     "output_type": "stream",
     "text": [
      "Random Forest Accuracy: 92.80%\n",
      "              precision    recall  f1-score   support\n",
      "\n",
      "           0       0.93      0.91      0.92       968\n",
      "           1       0.92      0.94      0.93      1074\n",
      "\n",
      "    accuracy                           0.93      2042\n",
      "   macro avg       0.93      0.93      0.93      2042\n",
      "weighted avg       0.93      0.93      0.93      2042\n",
      "\n",
      "\n",
      "Classification Report:\n",
      "              precision    recall  f1-score   support\n",
      "\n",
      "     Hateful       0.93      0.91      0.92       968\n",
      "      Normal       0.92      0.94      0.93      1074\n",
      "\n",
      "    accuracy                           0.93      2042\n",
      "   macro avg       0.93      0.93      0.93      2042\n",
      "weighted avg       0.93      0.93      0.93      2042\n",
      "\n",
      "\n",
      "Confusion Matrix:\n",
      "[[ 883   85]\n",
      " [  62 1012]]\n"
     ]
    }
   ],
   "source": [
    "# Import the confusion_matrix function\n",
    "from sklearn.metrics import confusion_matrix, classification_report, accuracy_score\n",
    "\n",
    "# Train and evaluate Random Forest\n",
    "rf_model = RandomForestClassifier(n_estimators=100, random_state=42)\n",
    "rf_model.fit(X_train, y_train)\n",
    "y_pred_rf = rf_model.predict(X_test)\n",
    "\n",
    "# Evaluate model\n",
    "accuracy_rf = accuracy_score(y_test, y_pred_rf) * 100  # Convert to percentage\n",
    "print(f\"Random Forest Accuracy: {accuracy_rf:.2f}%\")\n",
    "print(classification_report(y_test, y_pred_rf))\n",
    "\n",
    "# Print classification report for precision, recall, and F1-score\n",
    "print(\"\\nClassification Report:\")\n",
    "print(classification_report(y_test, y_pred_rf, target_names=['Hateful', 'Normal']))\n",
    "\n",
    "# Confusion Matrix\n",
    "cm = confusion_matrix(y_test, y_pred_rf)\n",
    "print(\"\\nConfusion Matrix:\")\n",
    "print(cm)"
   ]
  },
  {
   "cell_type": "code",
   "execution_count": 25,
   "id": "96935eb2",
   "metadata": {},
   "outputs": [
    {
     "name": "stdout",
     "output_type": "stream",
     "text": [
      "\n",
      "Precision (Hateful): 0.93\n",
      "Recall (Hateful): 0.91\n",
      "F1-Score (Hateful): 0.92\n",
      "\n",
      "Precision (Normal): 0.92\n",
      "Recall (Normal): 0.94\n",
      "F1-Score (Normal): 0.93\n"
     ]
    }
   ],
   "source": [
    "# Extract precision, recall, F1-score for each class\n",
    "report_dict = classification_report(y_test, y_pred_rf, output_dict=True)\n",
    "\n",
    "# Access precision, recall, and F1-score for 'Hateful' (class 0) and 'Normal' (class 1)\n",
    "precision_rf_hateful = report_dict['0']['precision']\n",
    "recall_rf_hateful = report_dict['0']['recall']\n",
    "f1_score_rf_hateful = report_dict['0']['f1-score']\n",
    "\n",
    "precision_rf_normal = report_dict['1']['precision']\n",
    "recall_rf_normal = report_dict['1']['recall']\n",
    "f1_score_rf_normal = report_dict['1']['f1-score']\n",
    "\n",
    "# Print extracted precision, recall, and F1-score for each class\n",
    "print(f\"\\nPrecision (Hateful): {precision_rf_hateful:.2f}\")\n",
    "print(f\"Recall (Hateful): {recall_rf_hateful:.2f}\")\n",
    "print(f\"F1-Score (Hateful): {f1_score_rf_hateful:.2f}\")\n",
    "\n",
    "print(f\"\\nPrecision (Normal): {precision_rf_normal:.2f}\")\n",
    "print(f\"Recall (Normal): {recall_rf_normal:.2f}\")\n",
    "print(f\"F1-Score (Normal): {f1_score_rf_normal:.2f}\")"
   ]
  },
  {
   "cell_type": "code",
   "execution_count": 18,
   "id": "76c7a23f",
   "metadata": {},
   "outputs": [
    {
     "data": {
      "image/png": "[encoded data removed]",
      "text/plain": [
       "<Figure size 600x500 with 2 Axes>"
      ]
     },
     "metadata": {},
     "output_type": "display_data"
    }
   ],
   "source": [
    "import seaborn as sns\n",
    "import matplotlib.pyplot as plt\n",
    "\n",
    "# Confusion Matrix Heatmap\n",
    "plt.figure(figsize=(6, 5))\n",
    "sns.heatmap(cm, annot=True, fmt='d', cmap='Blues', xticklabels=['Hateful', 'Normal'], yticklabels=['Hateful', 'Normal'])\n",
    "plt.title('Confusion Matrix Heatmap - Random Forest', fontsize=14)\n",
    "plt.xlabel('Predicted Labels', fontsize=12)\n",
    "plt.ylabel('Actual Labels', fontsize=12)\n",
    "plt.xticks(fontsize=10)\n",
    "plt.yticks(fontsize=10)\n",
    "plt.show()\n"
   ]
  },
  {
   "cell_type": "code",
   "execution_count": 19,
   "id": "e47a7abb",
   "metadata": {},
   "outputs": [
    {
     "data": {
      "image/png": "[encoded data removed]",
      "text/plain": [
       "<Figure size 800x500 with 1 Axes>"
      ]
     },
     "metadata": {},
     "output_type": "display_data"
    }
   ],
   "source": [
    "import matplotlib.pyplot as plt\n",
    "import numpy as np\n",
    "\n",
    "# Model accuracies (replace these with your actual results)\n",
    "model_names = ['Random Forest', 'SVM', 'Logistic Regression', 'Naive Bayes']\n",
    "accuracies = [92.80, 89.23, 88.10, 87.37]  # In percentage\n",
    "\n",
    "# Sort the models and accuracies in descending order\n",
    "sorted_indices = np.argsort(accuracies)[::-1]\n",
    "sorted_model_names = [model_names[i] for i in sorted_indices]\n",
    "sorted_accuracies = [accuracies[i] for i in sorted_indices]\n",
    "\n",
    "# Plot the bar graph\n",
    "plt.figure(figsize=(8, 5))\n",
    "bars = plt.bar(sorted_model_names, sorted_accuracies, color=['green', 'blue', 'orange', 'red'])\n",
    "plt.ylim(0, 100)\n",
    "\n",
    "# Add data labels on top of the bars\n",
    "for bar in bars:\n",
    "    height = bar.get_height()\n",
    "    plt.text(\n",
    "        bar.get_x() + bar.get_width() / 2,  # Center the text horizontally\n",
    "        height + 1,                        # Slightly above the bar\n",
    "        f\"{height:.2f}%\",                  # Display the accuracy as a percentage\n",
    "        ha='center',                       # Horizontal alignment\n",
    "        va='bottom',                       # Vertical alignment\n",
    "        fontsize=10,                       # Font size\n",
    "        color='black'                      # Text color\n",
    "    )\n",
    "\n",
    "# Add titles and labels\n",
    "plt.title('Model Accuracies', fontsize=14)\n",
    "plt.ylabel('Accuracy (%)', fontsize=12)\n",
    "plt.xticks(rotation=45)\n",
    "plt.grid(axis='y', linestyle='--', alpha=0.7)\n",
    "\n",
    "# Show the graph\n",
    "plt.tight_layout()\n",
    "plt.show()\n"
   ]
  },
  {
   "cell_type": "markdown",
   "id": "8a486b0b",
   "metadata": {},
   "source": [
    "# check the accuracy for confirmation"
   ]
  },
  {
   "cell_type": "code",
   "execution_count": 20,
   "id": "7e64a1a6",
   "metadata": {},
   "outputs": [
    {
     "name": "stdout",
     "output_type": "stream",
     "text": [
      "TfidfVectorizer(max_features=5000)\n"
     ]
    }
   ],
   "source": [
    "print(vectorizer)"
   ]
  },
  {
   "cell_type": "markdown",
   "id": "50f187e6",
   "metadata": {},
   "source": [
    "# saving model.pkl and vectorizer.pkl"
   ]
  },
  {
   "cell_type": "code",
   "execution_count": 21,
   "id": "91c14618",
   "metadata": {},
   "outputs": [
    {
     "name": "stdout",
     "output_type": "stream",
     "text": [
      "Vectorizer saved at C:/Users/HP/Hate Speech Detection/flask/models/vectorizer.pkl\n"
     ]
    }
   ],
   "source": [
    "import pickle\n",
    "\n",
    "# Define a specific path\n",
    "save_path = 'C:/Users/HP/Hate Speech Detection/flask/models/vectorizer.pkl'\n",
    "\n",
    "# Save the trained vectorizer\n",
    "with open(save_path, 'wb') as file:\n",
    "    pickle.dump(vectorizer, file)\n",
    "\n",
    "print(f\"Vectorizer saved at {save_path}\")"
   ]
  },
  {
   "cell_type": "code",
   "execution_count": 22,
   "id": "e5a3b419",
   "metadata": {},
   "outputs": [
    {
     "name": "stdout",
     "output_type": "stream",
     "text": [
      "Model saved as model.pkl at C:/Users/HP/Hate Speech Detection/flask/models/model.pkl\n"
     ]
    }
   ],
   "source": [
    "save_path2 = 'C:/Users/HP/Hate Speech Detection/flask/models/model.pkl'\n",
    "\n",
    "# Save the trained Random Forest model as a .pkl file\n",
    "with open(save_path2, 'wb') as file:\n",
    "    pickle.dump(rf_model, file)\n",
    "\n",
    "print(f\"Model saved as model.pkl at {save_path2}\")"
   ]
  },
  {
   "cell_type": "markdown",
   "id": "2abd0108",
   "metadata": {},
   "source": [
    "# Real Time Prediction Random forest"
   ]
  },
  {
   "cell_type": "code",
   "execution_count": 25,
   "id": "03bc3826",
   "metadata": {},
   "outputs": [
    {
     "name": "stdout",
     "output_type": "stream",
     "text": [
      "Predicted class: Hateful Tweet\n"
     ]
    },
    {
     "name": "stderr",
     "output_type": "stream",
     "text": [
      "[nltk_data] Downloading package punkt to\n",
      "[nltk_data]     C:\\Users\\HP\\AppData\\Roaming\\nltk_data...\n",
      "[nltk_data]   Package punkt is already up-to-date!\n",
      "[nltk_data] Downloading package stopwords to\n",
      "[nltk_data]     C:\\Users\\HP\\AppData\\Roaming\\nltk_data...\n",
      "[nltk_data]   Package stopwords is already up-to-date!\n"
     ]
    }
   ],
   "source": [
    "import pickle\n",
    "\n",
    "# Paths to the model and vectorizer files\n",
    "model_path = 'C:/Users/HP/Hate Speech Detection/flask/models/model.pkl'\n",
    "vectorizer_path = 'C:/Users/HP/Hate Speech Detection/flask/models/vectorizer.pkl'\n",
    "\n",
    "# Load the trained Random Forest model\n",
    "with open(model_path, 'rb') as model_file:\n",
    "    loaded_model = pickle.load(model_file)\n",
    "\n",
    "# Load the TfidfVectorizer\n",
    "with open(vectorizer_path, 'rb') as vectorizer_file:\n",
    "    vectorizer = pickle.load(vectorizer_file)\n",
    "\n",
    "# Function for preprocessing text\n",
    "def transform_text(text):\n",
    "    import nltk\n",
    "    from nltk.corpus import stopwords\n",
    "    from nltk.stem.porter import PorterStemmer\n",
    "    import string\n",
    "\n",
    "    nltk.download('punkt')\n",
    "    nltk.download('stopwords')\n",
    "\n",
    "    ps = PorterStemmer()\n",
    "    \n",
    "    # Convert to lowercase\n",
    "    text = text.lower()\n",
    "    # Tokenize\n",
    "    words = nltk.word_tokenize(text)\n",
    "    # Remove non-alphanumeric characters\n",
    "    words = [word for word in words if word.isalnum()]\n",
    "    # Remove stopwords and punctuation\n",
    "    words = [word for word in words if word not in stopwords.words('english') and word not in string.punctuation]\n",
    "    # Stem words\n",
    "    words = [ps.stem(word) for word in words]\n",
    "    \n",
    "    return \" \".join(words)\n",
    "\n",
    "# Example input tweet\n",
    "example_input = [\"phuddi da imran harami\"]  # Replace with real data\n",
    "\n",
    "# Preprocess the input text\n",
    "transformed_input = transform_text(example_input[0])\n",
    "\n",
    "# Convert the preprocessed text into a numerical vector\n",
    "vectorized_input = vectorizer.transform([transformed_input])\n",
    "\n",
    "# Predict the class using the loaded model\n",
    "predicted_class = loaded_model.predict(vectorized_input)\n",
    "\n",
    "# Display the prediction result\n",
    "if predicted_class[0] == 1:\n",
    "    print(\"Predicted class: Normal Tweet\")\n",
    "else:\n",
    "    print(\"Predicted class: Hateful Tweet\")\n"
   ]
  },
  {
   "cell_type": "code",
   "execution_count": 26,
   "id": "ebbdacf9",
   "metadata": {},
   "outputs": [
    {
     "name": "stdout",
     "output_type": "stream",
     "text": [
      "nltk version: 3.8.1\n",
      "scikit-learn version 1.6.0\n"
     ]
    }
   ],
   "source": [
    "print(\"nltk version:\", nltk.__version__)\n",
    "print(\"scikit-learn version\", sklearn.__version__)"
   ]
  },
  {
   "cell_type": "code",
   "execution_count": null,
   "id": "654c3b03",
   "metadata": {},
   "outputs": [],
   "source": []
  }
 ],
 "metadata": {
  "kernelspec": {
   "display_name": "Python 3 (ipykernel)",
   "language": "python",
   "name": "python3"
  },
  "language_info": {
   "codemirror_mode": {
    "name": "ipython",
    "version": 3
   },
   "file_extension": ".py",
   "mimetype": "text/x-python",
   "name": "python",
   "nbconvert_exporter": "python",
   "pygments_lexer": "ipython3",
   "version": "3.11.5"
  }
 },
 "nbformat": 4,
 "nbformat_minor": 5
}
